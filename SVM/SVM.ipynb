{
 "cells": [
  {
   "cell_type": "code",
   "execution_count": 10,
   "metadata": {},
   "outputs": [],
   "source": [
    "import numpy as np\n",
    "from sklearn import datasets\n",
    "from sklearn.model_selection import train_test_split\n",
    "from sklearn.metrics import accuracy_score"
   ]
  },
  {
   "cell_type": "code",
   "execution_count": 51,
   "metadata": {},
   "outputs": [],
   "source": [
    "class SVM:\n",
    "    def __init__(self, learning_rate=0.001, lambda_param=0.01, n_iters=1000):\n",
    "        self.lr = learning_rate\n",
    "        self.lambda_param = lambda_param\n",
    "        self.n_iters = n_iters\n",
    "        self.parameters = {}\n",
    "\n",
    "    def forward_propagation(self, train_input):\n",
    "        predictions = np.dot(train_input, self.parameters['w'])+self.parameters['b']\n",
    "        return np.sign(predictions) \n",
    "\n",
    "    def backward_propagation(self, train_input, train_output, predictions):\n",
    "\n",
    "        derivatives = {}\n",
    "        derivatives['dw'] = 2*self.lambda_param*self.parameters['w']\n",
    "        derivatives['db'] = 0\n",
    "        \n",
    "        for idx, x_i in enumerate(train_input):\n",
    "            y_i = train_output[idx]\n",
    "            if y_i*(np.dot(self.parameters['w'], x_i)+self.parameters['b']) < 1:\n",
    "                derivatives['dw'] -= (y_i/self.n_features)*x_i\n",
    "                derivatives['db'] -= (y_i/self.n_features)\n",
    "\n",
    "        return derivatives\n",
    "\n",
    "    \n",
    "    def update_parameters(self, derivatives):\n",
    "        self.parameters['w'] = self.parameters['w'] - self.lr * derivatives['dw']\n",
    "        self.parameters['b'] = self.parameters['b'] - self.lr * derivatives['db']\n",
    "\n",
    "    def train(self, train_input, train_output):\n",
    "\n",
    "        train_output = np.where(train_output<=0, -1, 1)\n",
    "        \n",
    "        self.n_samples, self.n_features = train_input.shape\n",
    "\n",
    "        self.parameters['w'] = np.zeros(self.n_features)\n",
    "        self.parameters['b'] = 0\n",
    "\n",
    "        for i in range(self.n_iters):\n",
    "\n",
    "            predictions = self.forward_propagation(train_input)\n",
    "\n",
    "            derivatives = self.backward_propagation(train_input, train_output, predictions)\n",
    "\n",
    "            self.update_parameters(derivatives)"
   ]
  },
  {
   "cell_type": "code",
   "execution_count": 34,
   "metadata": {},
   "outputs": [],
   "source": [
    "X, y = datasets.make_blobs(n_samples=100, centers=2, random_state=42)\n",
    "y = np.where(y == 0, -1, 1)"
   ]
  },
  {
   "cell_type": "code",
   "execution_count": 35,
   "metadata": {},
   "outputs": [],
   "source": [
    "X_train, X_test, y_train, y_test = train_test_split(X, y, test_size=0.2, random_state=42)"
   ]
  },
  {
   "cell_type": "code",
   "execution_count": 52,
   "metadata": {},
   "outputs": [],
   "source": [
    "svm = SVM()\n",
    "svm.train(X_train, y_train)\n",
    "y_pred = svm.forward_propagation(X_test)"
   ]
  },
  {
   "cell_type": "code",
   "execution_count": 42,
   "metadata": {},
   "outputs": [
    {
     "data": {
      "text/plain": [
       "array([-1.,  1., -1., -1.,  1., -1.,  1.,  1., -1., -1.,  1., -1.,  1.,\n",
       "       -1.,  1.,  1.,  1., -1., -1., -1.])"
      ]
     },
     "execution_count": 42,
     "metadata": {},
     "output_type": "execute_result"
    }
   ],
   "source": [
    "y_pred"
   ]
  },
  {
   "cell_type": "code",
   "execution_count": 43,
   "metadata": {},
   "outputs": [
    {
     "data": {
      "text/plain": [
       "array([-1,  1, -1, -1,  1, -1,  1,  1, -1, -1,  1, -1,  1, -1,  1,  1,  1,\n",
       "       -1, -1, -1])"
      ]
     },
     "execution_count": 43,
     "metadata": {},
     "output_type": "execute_result"
    }
   ],
   "source": [
    "y_test"
   ]
  },
  {
   "cell_type": "code",
   "execution_count": 44,
   "metadata": {},
   "outputs": [
    {
     "name": "stdout",
     "output_type": "stream",
     "text": [
      "Accuracy: 1.0\n"
     ]
    }
   ],
   "source": [
    "# Evaluate model\n",
    "accuracy = accuracy_score(y_test, y_pred)\n",
    "print(\"Accuracy:\", accuracy)"
   ]
  },
  {
   "cell_type": "code",
   "execution_count": 28,
   "metadata": {},
   "outputs": [
    {
     "name": "stdout",
     "output_type": "stream",
     "text": [
      "Accuracy: 0.5\n"
     ]
    }
   ],
   "source": [
    "# Generate data\n",
    "X, y = datasets.make_classification(n_features=5, n_samples=100, n_informative=5, n_redundant=0, n_classes=2, random_state=1)\n",
    "X_train, X_test, y_train, y_test = train_test_split(X, y, test_size=0.2, random_state=1)\n",
    "\n",
    "# Initialize SVM model\n",
    "svm = SVM()\n",
    "\n",
    "# Train model\n",
    "svm.train(X_train, y_train)\n",
    "\n",
    "# Make predictions\n",
    "y_pred = svm.forward_propagation(X_test)\n",
    "\n",
    "# Evaluate model\n",
    "accuracy = accuracy_score(y_test, y_pred)\n",
    "print(\"Accuracy:\", accuracy)"
   ]
  }
 ],
 "metadata": {
  "kernelspec": {
   "display_name": "cv",
   "language": "python",
   "name": "python3"
  },
  "language_info": {
   "codemirror_mode": {
    "name": "ipython",
    "version": 3
   },
   "file_extension": ".py",
   "mimetype": "text/x-python",
   "name": "python",
   "nbconvert_exporter": "python",
   "pygments_lexer": "ipython3",
   "version": "3.9.0"
  },
  "orig_nbformat": 4
 },
 "nbformat": 4,
 "nbformat_minor": 2
}
